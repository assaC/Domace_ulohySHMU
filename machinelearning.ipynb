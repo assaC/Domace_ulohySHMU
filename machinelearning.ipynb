{
 "cells": [
  {
   "cell_type": "code",
   "execution_count": 1,
   "metadata": {},
   "outputs": [],
   "source": [
    "import pandas as pd\n",
    "import numpy as np"
   ]
  },
  {
   "cell_type": "code",
   "execution_count": 2,
   "metadata": {},
   "outputs": [
    {
     "name": "stdout",
     "output_type": "stream",
     "text": [
      "{'concentracion_BAP': array([1.42176850e-04, 1.22225480e-04, 8.07611400e-05, ...,\n",
      "       1.15770845e-05, 1.62110460e-05, 1.29620190e-05]), 'concentracion_CO': array([81.9659  , 81.74093 , 80.085335, ..., 80.39581 , 80.5526  ,\n",
      "       80.47801 ]), 'concentracion_NO': array([0.01000346, 0.01095352, 0.0046298 , ..., 0.00480959, 0.00488007,\n",
      "       0.00479326]), 'concentracion_NO2': array([0.44255185, 0.4510493 , 0.27104062, ..., 0.37373856, 0.37414882,\n",
      "       0.3676276 ]), 'concentracion_O3': array([34.540756, 34.6841  , 34.8531  , ..., 34.085663, 34.08477 ,\n",
      "       34.091446]), 'concentracion_SO2': array([0.30722326, 0.30856583, 0.2997525 , ..., 0.42521623, 0.43029416,\n",
      "       0.41322845]), 'concentracion_PM25': array([1.2472274, 1.2304744, 1.1560775, ..., 1.3376839, 1.3467871,\n",
      "       1.3423355]), 'concentracion_PM10': array([1.6915662, 1.666925 , 1.5781842, ..., 1.8085284, 1.8252277,\n",
      "       1.8169621])}\n"
     ]
    }
   ],
   "source": [
    "# FUME data to numpy array\n",
    "data_FUME=pd.read_csv('C:/Users/Assa/git/Domace_ulohySHMU/FUME.csv',sep=';',encoding='utf-8')\n",
    "data_FUME=data_FUME.drop('Unnamed: 0',1)\n",
    "# data in the numpy array\n",
    "X=data_FUME\n",
    "for i in data_FUME.columns:\n",
    "    if i.startswith('concentracion'):\n",
    "       X=X.drop(i,1)\n",
    "X=X.values\n",
    "# labels to the numpy array\n",
    "y={}\n",
    "for i in data_FUME.columns:\n",
    "    if i.startswith('concentracion'):\n",
    "       y[i]=data_FUME[i].values\n",
    "print(y)"
   ]
  },
  {
   "cell_type": "code",
   "execution_count": 3,
   "metadata": {},
   "outputs": [],
   "source": [
    "# SMOKE data in the numpy array\n",
    "data_SMOKE=pd.read_csv('C:/Users/Assa/git/Domace_ulohySHMU/SMOKE.csv',sep=';',encoding='utf-8')\n",
    "data_SMOKE=data_SMOKE.drop('Unnamed: 0',1)\n",
    "X_S=data_SMOKE\n",
    "for i in data_SMOKE.columns:\n",
    "    if i.startswith('concentracion'):\n",
    "       X_S=X_S.drop(i,1)\n",
    "X_S=X_S.values\n",
    "# labels to the numpy array\n",
    "y_S={}\n",
    "for i in data_SMOKE.columns:\n",
    "    if i.startswith('concentracion'):\n",
    "       y_S[i]=data_SMOKE[i].values"
   ]
  },
  {
   "cell_type": "code",
   "execution_count": 4,
   "metadata": {},
   "outputs": [],
   "source": [
    "\n",
    "X_train, X_test, y_train, y_test,lr ={},{},{},{},{}"
   ]
  },
  {
   "cell_type": "code",
   "execution_count": 5,
   "metadata": {},
   "outputs": [],
   "source": [
    "# split training and test sets for the FUME data\n",
    "from sklearn.model_selection import train_test_split\n",
    "for i in data_FUME.columns:\n",
    "    if i.startswith('concentracion'):\n",
    "        X_train[i], X_test[i], y_train[i], y_test[i] = train_test_split(\n",
    "        X, y[i], random_state=0)"
   ]
  },
  {
   "cell_type": "code",
   "execution_count": 6,
   "metadata": {},
   "outputs": [
    {
     "name": "stdout",
     "output_type": "stream",
     "text": [
      "concentracion_BAP\n",
      "Training set score: 0.88\n",
      "Test set score: 0.87\n",
      "Test johannes score: -7436.36\n",
      "concentracion_CO\n",
      "Training set score: 0.56\n",
      "Test set score: -0.38\n",
      "Test johannes score: -1201.33\n",
      "concentracion_NO\n",
      "Training set score: 0.47\n",
      "Test set score: -0.26\n",
      "Test johannes score: -4174913.97\n",
      "concentracion_NO2\n",
      "Training set score: 0.33\n",
      "Test set score: 0.19\n",
      "Test johannes score: -963586.96\n",
      "concentracion_O3\n",
      "Training set score: 0.33\n",
      "Test set score: 0.19\n",
      "Test johannes score: -307167.46\n",
      "concentracion_SO2\n",
      "Training set score: 0.43\n",
      "Test set score: -0.04\n",
      "Test johannes score: -87857.48\n",
      "concentracion_PM25\n",
      "Training set score: 0.69\n",
      "Test set score: 0.73\n",
      "Test johannes score: -1899.79\n",
      "concentracion_PM10\n",
      "Training set score: 0.69\n",
      "Test set score: 0.64\n",
      "Test johannes score: -2827.93\n"
     ]
    }
   ],
   "source": [
    "# LinearRegression  model\n",
    "from sklearn.linear_model import LinearRegression\n",
    "for i in data_FUME.columns:\n",
    "    if i.startswith('concentracion'):\n",
    "        lr[i] = LinearRegression().fit(X_train[i], y_train[i])\n",
    "        print(i)\n",
    "        print(\"Training set score: {:.2f}\".format(lr[i].score(X_train[i], y_train[i])))\n",
    "        print(\"Test set score: {:.2f}\".format(lr[i].score(X_test[i], y_test[i])))\n",
    "        print(\"Test johannes score: {:.2f}\".format(lr[i].score(X_S, y_S[i])))"
   ]
  },
  {
   "cell_type": "code",
   "execution_count": 7,
   "metadata": {},
   "outputs": [
    {
     "name": "stdout",
     "output_type": "stream",
     "text": [
      "concentracion_BAP\n",
      "Training set score: 0.79\n",
      "Test set score: 0.74\n",
      "Test johannes score: 0.64\n",
      "concentracion_CO\n",
      "Training set score: 0.56\n",
      "Test set score: -0.18\n",
      "Test johannes score: -14.79\n",
      "concentracion_NO\n",
      "Training set score: 0.46\n",
      "Test set score: -0.16\n",
      "Test johannes score: -3841.78\n",
      "concentracion_NO2\n",
      "Training set score: 0.33\n",
      "Test set score: 0.21\n",
      "Test johannes score: -5.26\n",
      "concentracion_O3\n",
      "Training set score: 0.32\n",
      "Test set score: 0.19\n",
      "Test johannes score: -2.66\n",
      "concentracion_SO2\n",
      "Training set score: 0.42\n",
      "Test set score: -0.01\n",
      "Test johannes score: -16.77\n",
      "concentracion_PM25\n",
      "Training set score: 0.69\n",
      "Test set score: 0.74\n",
      "Test johannes score: -0.27\n",
      "concentracion_PM10\n",
      "Training set score: 0.68\n",
      "Test set score: 0.64\n",
      "Test johannes score: -0.68\n"
     ]
    }
   ],
   "source": [
    "# ridge model\n",
    "from sklearn.linear_model import Ridge\n",
    "rid={}\n",
    "for i in data_FUME.columns:\n",
    "    if i.startswith('concentracion'):\n",
    "        rid[i] = Ridge(alpha=1000000).fit(X_train[i], y_train[i])\n",
    "        print(i)\n",
    "        print(\"Training set score: {:.2f}\".format(rid[i].score(X_train[i], y_train[i])))\n",
    "        print(\"Test set score: {:.2f}\".format(rid[i].score(X_test[i], y_test[i])))\n",
    "        print(\"Test johannes score: {:.2f}\".format(rid[i].score(X_S, y_S[i])))"
   ]
  },
  {
   "cell_type": "code",
   "execution_count": 8,
   "metadata": {},
   "outputs": [
    {
     "name": "stdout",
     "output_type": "stream",
     "text": [
      "concentracion_BAP\n",
      "Training set score: 0.12\n",
      "Test set score: 0.10\n",
      "Test johannes score: 0.02\n",
      "concentracion_CO\n",
      "Training set score: 0.56\n",
      "Test set score: -0.26\n",
      "Test johannes score: -16.85\n",
      "concentracion_NO\n",
      "Training set score: 0.44\n",
      "Test set score: 0.08\n",
      "Test johannes score: -1294.69\n",
      "concentracion_NO2\n",
      "Training set score: 0.32\n",
      "Test set score: 0.24\n",
      "Test johannes score: -8.25\n",
      "concentracion_O3\n",
      "Training set score: 0.31\n",
      "Test set score: 0.23\n",
      "Test johannes score: -2.22\n",
      "concentracion_SO2\n",
      "Training set score: 0.42\n",
      "Test set score: 0.02\n",
      "Test johannes score: -11.41\n",
      "concentracion_PM25\n",
      "Training set score: 0.68\n",
      "Test set score: 0.74\n",
      "Test johannes score: 0.40\n",
      "concentracion_PM10\n",
      "Training set score: 0.68\n",
      "Test set score: 0.64\n",
      "Test johannes score: 0.49\n"
     ]
    }
   ],
   "source": [
    "# Lasso model\n",
    "from sklearn.linear_model import Lasso\n",
    "las={}\n",
    "for i in data_FUME.columns:\n",
    "    if i.startswith('concentracion'):\n",
    "        las[i] = Lasso(alpha=1, max_iter=100000).fit(X_train[i], y_train[i])\n",
    "        print(i)\n",
    "        print(\"Training set score: {:.2f}\".format(las[i].score(X_train[i], y_train[i])))\n",
    "        print(\"Test set score: {:.2f}\".format(las[i].score(X_test[i], y_test[i])))\n",
    "        print(\"Test johannes score: {:.2f}\".format(las[i].score(X_S, y_S[i])))"
   ]
  },
  {
   "cell_type": "code",
   "execution_count": 9,
   "metadata": {},
   "outputs": [
    {
     "name": "stdout",
     "output_type": "stream",
     "text": [
      "Number of features used: 2\n",
      "Number of features used: 21\n",
      "Number of features used: 14\n",
      "Number of features used: 16\n",
      "Number of features used: 17\n",
      "Number of features used: 16\n",
      "Number of features used: 14\n",
      "Number of features used: 14\n"
     ]
    }
   ],
   "source": [
    "for i in data_FUME.columns:\n",
    "    if i.startswith('concentracion'):\n",
    "        print(\"Number of features used: {}\".format(np.sum(las[i].coef_ != 0)))"
   ]
  },
  {
   "cell_type": "code",
   "execution_count": 10,
   "metadata": {},
   "outputs": [
    {
     "name": "stdout",
     "output_type": "stream",
     "text": [
      "concentracion_BAP\n",
      "Training set score: 1.00\n",
      "Test set score: 0.51\n",
      "Test johannes score: -1.04\n",
      "concentracion_CO\n",
      "Training set score: 1.00\n",
      "Test set score: 0.21\n",
      "Test johannes score: -6.87\n",
      "concentracion_NO\n",
      "Training set score: 1.00\n",
      "Test set score: 0.24\n",
      "Test johannes score: -298.83\n",
      "concentracion_NO2\n",
      "Training set score: 1.00\n",
      "Test set score: 0.40\n",
      "Test johannes score: -28.30\n",
      "concentracion_O3\n",
      "Training set score: 1.00\n",
      "Test set score: 0.39\n",
      "Test johannes score: -8.17\n",
      "concentracion_SO2\n",
      "Training set score: 1.00\n",
      "Test set score: 0.15\n",
      "Test johannes score: -8.88\n",
      "concentracion_PM25\n",
      "Training set score: 1.00\n",
      "Test set score: 0.74\n",
      "Test johannes score: -2.15\n",
      "concentracion_PM10\n",
      "Training set score: 1.00\n",
      "Test set score: 0.64\n",
      "Test johannes score: -2.95\n"
     ]
    }
   ],
   "source": [
    "from sklearn.neighbors import KNeighborsRegressor\n",
    "clf = KNeighborsRegressor(weights='distance')\n",
    "kn={}\n",
    "for i in data_FUME.columns:\n",
    "    if i.startswith('concentracion'):\n",
    "        kn[i] = clf.fit(X_train[i], y_train[i])\n",
    "        print(i)\n",
    "        print(\"Training set score: {:.2f}\".format(kn[i].score(X_train[i], y_train[i])))\n",
    "        print(\"Test set score: {:.2f}\".format(kn[i].score(X_test[i], y_test[i])))\n",
    "        print(\"Test johannes score: {:.2f}\".format(kn[i].score(X_S, y_S[i])))"
   ]
  },
  {
   "cell_type": "code",
   "execution_count": 11,
   "metadata": {},
   "outputs": [
    {
     "name": "stdout",
     "output_type": "stream",
     "text": [
      "concentracion_BAP\n",
      "Training set score: 1.00\n",
      "Test set score: 0.53\n",
      "Test johannes score: -0.36\n",
      "concentracion_CO\n",
      "Training set score: 1.00\n",
      "Test set score: 0.28\n",
      "Test johannes score: -2.40\n",
      "concentracion_NO\n",
      "Training set score: 1.00\n",
      "Test set score: 0.21\n",
      "Test johannes score: -99.80\n",
      "concentracion_NO2\n",
      "Training set score: 1.00\n",
      "Test set score: 0.40\n",
      "Test johannes score: -16.46\n",
      "concentracion_O3\n",
      "Training set score: 1.00\n",
      "Test set score: 0.40\n",
      "Test johannes score: -4.69\n",
      "concentracion_SO2\n",
      "Training set score: 1.00\n",
      "Test set score: 0.27\n",
      "Test johannes score: -3.21\n",
      "concentracion_PM25\n",
      "Training set score: 1.00\n",
      "Test set score: 0.77\n",
      "Test johannes score: -0.53\n",
      "concentracion_PM10\n",
      "Training set score: 1.00\n",
      "Test set score: 0.66\n",
      "Test johannes score: -0.97\n"
     ]
    }
   ],
   "source": [
    "from sklearn.neighbors import KNeighborsRegressor\n",
    "clf = KNeighborsRegressor(n_neighbors=10,weights='distance',p=1)\n",
    "kn={}\n",
    "for i in data_FUME.columns:\n",
    "    if i.startswith('concentracion'):\n",
    "        kn[i] = clf.fit(X_train[i], y_train[i])\n",
    "        print(i)\n",
    "        print(\"Training set score: {:.2f}\".format(kn[i].score(X_train[i], y_train[i])))\n",
    "        print(\"Test set score: {:.2f}\".format(kn[i].score(X_test[i], y_test[i])))\n",
    "        print(\"Test johannes score: {:.2f}\".format(kn[i].score(X_S, y_S[i])))"
   ]
  },
  {
   "cell_type": "code",
   "execution_count": 15,
   "metadata": {},
   "outputs": [
    {
     "ename": "ImportError",
     "evalue": "cannot import name 'ComplementNB'",
     "output_type": "error",
     "traceback": [
      "\u001b[1;31m---------------------------------------------------------------------------\u001b[0m",
      "\u001b[1;31mImportError\u001b[0m                               Traceback (most recent call last)",
      "\u001b[1;32m<ipython-input-15-a4757a0966e2>\u001b[0m in \u001b[0;36m<module>\u001b[1;34m()\u001b[0m\n\u001b[1;32m----> 1\u001b[1;33m \u001b[1;32mfrom\u001b[0m \u001b[0msklearn\u001b[0m\u001b[1;33m.\u001b[0m\u001b[0mnaive_bayes\u001b[0m \u001b[1;32mimport\u001b[0m \u001b[0mComplementNB\u001b[0m\u001b[1;33m\u001b[0m\u001b[0m\n\u001b[0m\u001b[0;32m      2\u001b[0m \u001b[0mlinGNB\u001b[0m\u001b[1;33m=\u001b[0m\u001b[1;33m{\u001b[0m\u001b[1;33m}\u001b[0m\u001b[1;33m\u001b[0m\u001b[0m\n\u001b[0;32m      3\u001b[0m \u001b[1;32mfor\u001b[0m \u001b[0mi\u001b[0m \u001b[1;32min\u001b[0m \u001b[0mdata_FUME\u001b[0m\u001b[1;33m.\u001b[0m\u001b[0mcolumns\u001b[0m\u001b[1;33m:\u001b[0m\u001b[1;33m\u001b[0m\u001b[0m\n\u001b[0;32m      4\u001b[0m     \u001b[1;32mif\u001b[0m \u001b[0mi\u001b[0m\u001b[1;33m.\u001b[0m\u001b[0mstartswith\u001b[0m\u001b[1;33m(\u001b[0m\u001b[1;34m'concentracion'\u001b[0m\u001b[1;33m)\u001b[0m\u001b[1;33m:\u001b[0m\u001b[1;33m\u001b[0m\u001b[0m\n\u001b[0;32m      5\u001b[0m         \u001b[0mlinGNB\u001b[0m\u001b[1;33m[\u001b[0m\u001b[0mi\u001b[0m\u001b[1;33m]\u001b[0m \u001b[1;33m=\u001b[0m \u001b[0mComplementNB\u001b[0m\u001b[1;33m(\u001b[0m\u001b[1;33m)\u001b[0m\u001b[1;33m.\u001b[0m\u001b[0mfit\u001b[0m\u001b[1;33m(\u001b[0m\u001b[0mX_train\u001b[0m\u001b[1;33m[\u001b[0m\u001b[0mi\u001b[0m\u001b[1;33m]\u001b[0m\u001b[1;33m,\u001b[0m \u001b[0my_train\u001b[0m\u001b[1;33m[\u001b[0m\u001b[0mi\u001b[0m\u001b[1;33m]\u001b[0m\u001b[1;33m)\u001b[0m\u001b[1;33m\u001b[0m\u001b[0m\n",
      "\u001b[1;31mImportError\u001b[0m: cannot import name 'ComplementNB'"
     ]
    }
   ],
   "source": [
    "from sklearn.naive_bayes import ComplementNB\n",
    "linGNB={}\n",
    "for i in data_FUME.columns:\n",
    "    if i.startswith('concentracion'):\n",
    "        linGNB[i] = ComplementNB().fit(X_train[i], y_train[i])\n",
    "        print(i)\n",
    "        print(\"Training set score: {:.2f}\".format(las[i].score(X_train[i], y_train[i])))\n",
    "        print(\"Test set score: {:.2f}\".format(las[i].score(X_test[i], y_test[i])))\n",
    "        print(\"Test johannes score: {:.2f}\".format(las[i].score(X_S, y_S[i])))"
   ]
  },
  {
   "cell_type": "code",
   "execution_count": null,
   "metadata": {},
   "outputs": [],
   "source": []
  }
 ],
 "metadata": {
  "kernelspec": {
   "display_name": "Python 3",
   "language": "python",
   "name": "python3"
  },
  "language_info": {
   "codemirror_mode": {
    "name": "ipython",
    "version": 3
   },
   "file_extension": ".py",
   "mimetype": "text/x-python",
   "name": "python",
   "nbconvert_exporter": "python",
   "pygments_lexer": "ipython3",
   "version": "3.6.5"
  }
 },
 "nbformat": 4,
 "nbformat_minor": 2
}
